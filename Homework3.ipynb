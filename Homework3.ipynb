{
  "nbformat": 4,
  "nbformat_minor": 0,
  "metadata": {
    "colab": {
      "provenance": [],
      "authorship_tag": "ABX9TyMoztMvgbzGWCQU4mRB02fw",
      "include_colab_link": true
    },
    "kernelspec": {
      "name": "python3",
      "display_name": "Python 3"
    },
    "language_info": {
      "name": "python"
    }
  },
  "cells": [
    {
      "cell_type": "markdown",
      "metadata": {
        "id": "view-in-github",
        "colab_type": "text"
      },
      "source": [
        "<a href=\"https://colab.research.google.com/github/jpan2575/Homework3_Pan/blob/main/Homework3.ipynb\" target=\"_parent\"><img src=\"https://colab.research.google.com/assets/colab-badge.svg\" alt=\"Open In Colab\"/></a>"
      ]
    },
    {
      "cell_type": "code",
      "execution_count": 7,
      "metadata": {
        "colab": {
          "base_uri": "https://localhost:8080/"
        },
        "id": "t8JkHC3AFtZX",
        "outputId": "3e3c6dd4-d7f1-42a1-fe6f-af9f144b2bd7"
      },
      "outputs": [
        {
          "output_type": "stream",
          "name": "stdout",
          "text": [
            "Drive already mounted at /content/drive; to attempt to forcibly remount, call drive.mount(\"/content/drive\", force_remount=True).\n",
            "     Year  Month  Decimal_date  Monthly_average  deseasonalized  numofdays  \\\n",
            "0    1958      3     1958.2027           315.70          314.43         -1   \n",
            "1    1958      4     1958.2877           317.45          315.16         -1   \n",
            "2    1958      5     1958.3699           317.51          314.71         -1   \n",
            "3    1958      6     1958.4548           317.24          315.14         -1   \n",
            "4    1958      7     1958.5370           315.86          315.18         -1   \n",
            "..    ...    ...           ...              ...             ...        ...   \n",
            "762  2021      9     2021.7083           413.30          416.90         27   \n",
            "763  2021     10     2021.7917           413.93          417.30         29   \n",
            "764  2021     11     2021.8750           415.01          417.07         30   \n",
            "765  2021     12     2021.9583           416.71          417.44         28   \n",
            "766  2022      1     2022.0417           418.19          417.87         29   \n",
            "\n",
            "     stdofdays      site  \n",
            "0        -9.99  MaunaLoa  \n",
            "1        -9.99  MaunaLoa  \n",
            "2        -9.99  MaunaLoa  \n",
            "3        -9.99  MaunaLoa  \n",
            "4        -9.99  MaunaLoa  \n",
            "..         ...       ...  \n",
            "762       0.29  MaunaLoa  \n",
            "763       0.35  MaunaLoa  \n",
            "764       0.36  MaunaLoa  \n",
            "765       0.48  MaunaLoa  \n",
            "766       0.75  MaunaLoa  \n",
            "\n",
            "[767 rows x 8 columns]\n"
          ]
        }
      ],
      "source": [
        "# Pandas\n",
        "import pandas as pd\n",
        "import numpy as np\n",
        "from google.colab import drive\n",
        "drive.mount('/content/drive')\n",
        "\n",
        "filedir = '/content/drive/MyDrive/FWE458/'\n",
        "\n",
        "fname = filedir + 'MaunaLoaCO2_monthly_sitename.csv'\n",
        "\n",
        "#Dataframe\n",
        "DF = pd.read_csv(fname)\n",
        "\n",
        "print(DF)"
      ]
    },
    {
      "source": [
        "#Remove Years\n",
        "DF = DF[(DF['Year'] != 1958) & (DF['Year'] != 2022)]\n",
        "print(DF)"
      ],
      "cell_type": "code",
      "metadata": {
        "colab": {
          "base_uri": "https://localhost:8080/"
        },
        "id": "xo6tZYdOG1V3",
        "outputId": "3e2b8d93-a593-4e1f-dfa4-09803198a70d"
      },
      "execution_count": 12,
      "outputs": [
        {
          "output_type": "stream",
          "name": "stdout",
          "text": [
            "     Year  Month  Decimal_date  Monthly_average  deseasonalized  numofdays  \\\n",
            "194  1974      5     1974.3750           333.19          330.22         13   \n",
            "195  1974      6     1974.4583           332.20          329.78         25   \n",
            "196  1974      7     1974.5417           331.07          330.21         24   \n",
            "197  1974      8     1974.6250           329.15          330.54         26   \n",
            "198  1974      9     1974.7083           327.33          330.44         22   \n",
            "..    ...    ...           ...              ...             ...        ...   \n",
            "761  2021      8     2021.6250           414.47          416.49         26   \n",
            "762  2021      9     2021.7083           413.30          416.90         27   \n",
            "763  2021     10     2021.7917           413.93          417.30         29   \n",
            "764  2021     11     2021.8750           415.01          417.07         30   \n",
            "765  2021     12     2021.9583           416.71          417.44         28   \n",
            "\n",
            "     stdofdays      site  \n",
            "194       0.31  MaunaLoa  \n",
            "195       0.37  MaunaLoa  \n",
            "196       0.24  MaunaLoa  \n",
            "197       0.31  MaunaLoa  \n",
            "198       0.47  MaunaLoa  \n",
            "..         ...       ...  \n",
            "761       0.72  MaunaLoa  \n",
            "762       0.29  MaunaLoa  \n",
            "763       0.35  MaunaLoa  \n",
            "764       0.36  MaunaLoa  \n",
            "765       0.48  MaunaLoa  \n",
            "\n",
            "[570 rows x 8 columns]\n"
          ]
        }
      ]
    },
    {
      "source": [
        "#Remove Negatives\n",
        "DF = DF[(DF['numofdays'] >= 0) & (DF['stdofdays'] >= 0)]\n",
        "print(DF)"
      ],
      "cell_type": "code",
      "metadata": {
        "colab": {
          "base_uri": "https://localhost:8080/"
        },
        "id": "BtaD_6QmHFA6",
        "outputId": "052b266e-124f-4ec1-fde5-2393363069ad"
      },
      "execution_count": 13,
      "outputs": [
        {
          "output_type": "stream",
          "name": "stdout",
          "text": [
            "     Year  Month  Decimal_date  Monthly_average  deseasonalized  numofdays  \\\n",
            "194  1974      5     1974.3750           333.19          330.22         13   \n",
            "195  1974      6     1974.4583           332.20          329.78         25   \n",
            "196  1974      7     1974.5417           331.07          330.21         24   \n",
            "197  1974      8     1974.6250           329.15          330.54         26   \n",
            "198  1974      9     1974.7083           327.33          330.44         22   \n",
            "..    ...    ...           ...              ...             ...        ...   \n",
            "761  2021      8     2021.6250           414.47          416.49         26   \n",
            "762  2021      9     2021.7083           413.30          416.90         27   \n",
            "763  2021     10     2021.7917           413.93          417.30         29   \n",
            "764  2021     11     2021.8750           415.01          417.07         30   \n",
            "765  2021     12     2021.9583           416.71          417.44         28   \n",
            "\n",
            "     stdofdays      site  \n",
            "194       0.31  MaunaLoa  \n",
            "195       0.37  MaunaLoa  \n",
            "196       0.24  MaunaLoa  \n",
            "197       0.31  MaunaLoa  \n",
            "198       0.47  MaunaLoa  \n",
            "..         ...       ...  \n",
            "761       0.72  MaunaLoa  \n",
            "762       0.29  MaunaLoa  \n",
            "763       0.35  MaunaLoa  \n",
            "764       0.36  MaunaLoa  \n",
            "765       0.48  MaunaLoa  \n",
            "\n",
            "[570 rows x 8 columns]\n"
          ]
        }
      ]
    },
    {
      "cell_type": "markdown",
      "source": [],
      "metadata": {
        "id": "j6UFHHoGIBQH"
      }
    },
    {
      "source": [
        "#Print Annual Average\n",
        "annual_average = DF.groupby('Year')['Monthly_average'].mean().reset_index()\n",
        "annual_average.rename(columns={'Monthly_average': 'annual_average'}, inplace=True)\n",
        "print(annual_average)"
      ],
      "cell_type": "code",
      "metadata": {
        "colab": {
          "base_uri": "https://localhost:8080/"
        },
        "id": "-c92GJumH_qT",
        "outputId": "760f0d1d-5974-49c1-d28d-3f3f75ca814c"
      },
      "execution_count": 15,
      "outputs": [
        {
          "output_type": "stream",
          "name": "stdout",
          "text": [
            "    Year  annual_average\n",
            "0   1974      329.763750\n",
            "1   1975      331.160909\n",
            "2   1976      332.026667\n",
            "3   1977      333.843333\n",
            "4   1978      335.415000\n",
            "5   1979      336.835833\n",
            "6   1980      338.762500\n",
            "7   1981      340.119167\n",
            "8   1982      341.479167\n",
            "9   1983      343.152500\n",
            "10  1984      344.639091\n",
            "11  1985      346.351667\n",
            "12  1986      347.608333\n",
            "13  1987      349.312500\n",
            "14  1988      351.690833\n",
            "15  1989      353.205000\n",
            "16  1990      354.453333\n",
            "17  1991      355.704167\n",
            "18  1992      356.544167\n",
            "19  1993      357.215833\n",
            "20  1994      358.959167\n",
            "21  1995      360.968333\n",
            "22  1996      362.743333\n",
            "23  1997      363.877500\n",
            "24  1998      366.840000\n",
            "25  1999      368.540000\n",
            "26  2000      369.706667\n",
            "27  2001      371.319167\n",
            "28  2002      373.452500\n",
            "29  2003      375.983333\n",
            "30  2004      377.698333\n",
            "31  2005      379.983333\n",
            "32  2006      382.090833\n",
            "33  2007      384.025000\n",
            "34  2008      385.830833\n",
            "35  2009      387.643333\n",
            "36  2010      390.101667\n",
            "37  2011      391.850833\n",
            "38  2012      394.055833\n",
            "39  2013      396.737500\n",
            "40  2014      398.870833\n",
            "41  2015      401.012500\n",
            "42  2016      404.412500\n",
            "43  2017      406.757500\n",
            "44  2018      408.715000\n",
            "45  2019      411.654167\n",
            "46  2020      414.238333\n",
            "47  2021      416.450833\n"
          ]
        }
      ]
    },
    {
      "source": [
        "#Print deseasonalized average\n",
        "deseasonalized_annual_average = DF.groupby('Year')['deseasonalized'].mean().reset_index()\n",
        "print(deseasonalized_annual_average)"
      ],
      "cell_type": "code",
      "metadata": {
        "colab": {
          "base_uri": "https://localhost:8080/"
        },
        "id": "ovU6NmJkIkyp",
        "outputId": "48ebfe1e-f9ce-4fc4-ac29-e370de95dec7"
      },
      "execution_count": 18,
      "outputs": [
        {
          "output_type": "stream",
          "name": "stdout",
          "text": [
            "    Year  deseasonalized\n",
            "0   1974      330.346250\n",
            "1   1975      331.072727\n",
            "2   1976      332.028333\n",
            "3   1977      333.841667\n",
            "4   1978      335.413333\n",
            "5   1979      336.835833\n",
            "6   1980      338.765000\n",
            "7   1981      340.120000\n",
            "8   1982      341.476667\n",
            "9   1983      343.152500\n",
            "10  1984      344.874545\n",
            "11  1985      346.350833\n",
            "12  1986      347.608333\n",
            "13  1987      349.313333\n",
            "14  1988      351.690833\n",
            "15  1989      353.205000\n",
            "16  1990      354.451667\n",
            "17  1991      355.703333\n",
            "18  1992      356.545833\n",
            "19  1993      357.214167\n",
            "20  1994      358.960000\n",
            "21  1995      360.966667\n",
            "22  1996      362.743333\n",
            "23  1997      363.876667\n",
            "24  1998      366.839167\n",
            "25  1999      368.540833\n",
            "26  2000      369.707500\n",
            "27  2001      371.318333\n",
            "28  2002      373.452500\n",
            "29  2003      375.983333\n",
            "30  2004      377.697500\n",
            "31  2005      379.982500\n",
            "32  2006      382.089167\n",
            "33  2007      384.024167\n",
            "34  2008      385.830000\n",
            "35  2009      387.643333\n",
            "36  2010      390.101667\n",
            "37  2011      391.850833\n",
            "38  2012      394.055833\n",
            "39  2013      396.738333\n",
            "40  2014      398.870000\n",
            "41  2015      401.012500\n",
            "42  2016      404.414167\n",
            "43  2017      406.757500\n",
            "44  2018      408.715000\n",
            "45  2019      411.655833\n",
            "46  2020      414.235833\n",
            "47  2021      416.450000\n"
          ]
        }
      ]
    },
    {
      "source": [
        "#print std of months\n",
        "std_of_months = DF.groupby('Year')['Monthly_average'].std().reset_index()\n",
        "# Unsure if needed to rename column\n",
        "print(std_of_months)"
      ],
      "cell_type": "code",
      "metadata": {
        "colab": {
          "base_uri": "https://localhost:8080/"
        },
        "id": "trXT4mJWJCXP",
        "outputId": "faf65b10-76f6-441e-e30b-eea613c58867"
      },
      "execution_count": 19,
      "outputs": [
        {
          "output_type": "stream",
          "name": "stdout",
          "text": [
            "    Year  Monthly_average\n",
            "0   1974         2.203789\n",
            "1   1975         1.943751\n",
            "2   1976         2.085610\n",
            "3   1977         1.931882\n",
            "4   1978         1.995014\n",
            "5   1979         1.837639\n",
            "6   1980         1.871271\n",
            "7   1981         2.105989\n",
            "8   1982         2.151386\n",
            "9   1983         1.936093\n",
            "10  1984         1.963520\n",
            "11  1985         1.996983\n",
            "12  1986         1.834358\n",
            "13  1987         1.800430\n",
            "14  1988         1.780860\n",
            "15  1989         1.978569\n",
            "16  1990         1.892379\n",
            "17  1991         2.343313\n",
            "18  1992         2.304432\n",
            "19  1993         2.033597\n",
            "20  1994         1.916656\n",
            "21  1995         1.953672\n",
            "22  1996         1.960669\n",
            "23  1997         2.008578\n",
            "24  1998         1.790520\n",
            "25  1999         2.080350\n",
            "26  2000         1.695434\n",
            "27  2001         1.893772\n",
            "28  2002         1.735407\n",
            "29  2003         1.840836\n",
            "30  2004         2.110062\n",
            "31  2005         1.987915\n",
            "32  2006         2.027064\n",
            "33  2007         1.958587\n",
            "34  2008         1.745209\n",
            "35  2009         1.876643\n",
            "36  2010         2.027290\n",
            "37  2011         1.737958\n",
            "38  2012         1.823775\n",
            "39  2013         1.956231\n",
            "40  2014         2.062093\n",
            "41  2015         1.967907\n",
            "42  2016         2.208719\n",
            "43  2017         2.030943\n",
            "44  2018         1.787718\n",
            "45  2019         1.940963\n",
            "46  2020         1.880947\n",
            "47  2021         2.025027\n"
          ]
        }
      ]
    },
    {
      "source": [
        "#Function to classify CO2 levels by month\n",
        "def classify_co2(Monthly_average):\n",
        "\n",
        "  if Monthly_average < 350:\n",
        "    return 'Low'\n",
        "  elif Monthly_average >= 350 and Monthly_average <= 400:\n",
        "    return 'Moderate'\n",
        "  else:\n",
        "    return 'High'\n",
        "\n",
        "#Creating a new column\n",
        "DF['CO2_Category'] = DF['Monthly_average'].apply(classify_co2)\n",
        "print(DF)"
      ],
      "cell_type": "code",
      "metadata": {
        "colab": {
          "base_uri": "https://localhost:8080/"
        },
        "id": "VoPOrokFJ3WF",
        "outputId": "7619074a-4319-40ce-d38c-d7582b0d62ea"
      },
      "execution_count": 23,
      "outputs": [
        {
          "output_type": "stream",
          "name": "stdout",
          "text": [
            "     Year  Month  Decimal_date  Monthly_average  deseasonalized  numofdays  \\\n",
            "194  1974      5     1974.3750           333.19          330.22         13   \n",
            "195  1974      6     1974.4583           332.20          329.78         25   \n",
            "196  1974      7     1974.5417           331.07          330.21         24   \n",
            "197  1974      8     1974.6250           329.15          330.54         26   \n",
            "198  1974      9     1974.7083           327.33          330.44         22   \n",
            "..    ...    ...           ...              ...             ...        ...   \n",
            "761  2021      8     2021.6250           414.47          416.49         26   \n",
            "762  2021      9     2021.7083           413.30          416.90         27   \n",
            "763  2021     10     2021.7917           413.93          417.30         29   \n",
            "764  2021     11     2021.8750           415.01          417.07         30   \n",
            "765  2021     12     2021.9583           416.71          417.44         28   \n",
            "\n",
            "     stdofdays      site CO2_Category  \n",
            "194       0.31  MaunaLoa          Low  \n",
            "195       0.37  MaunaLoa          Low  \n",
            "196       0.24  MaunaLoa          Low  \n",
            "197       0.31  MaunaLoa          Low  \n",
            "198       0.47  MaunaLoa          Low  \n",
            "..         ...       ...          ...  \n",
            "761       0.72  MaunaLoa         High  \n",
            "762       0.29  MaunaLoa         High  \n",
            "763       0.35  MaunaLoa         High  \n",
            "764       0.36  MaunaLoa         High  \n",
            "765       0.48  MaunaLoa         High  \n",
            "\n",
            "[570 rows x 9 columns]\n"
          ]
        }
      ]
    }
  ]
}